{
 "cells": [
  {
   "cell_type": "code",
   "execution_count": 1,
   "id": "3e37d453-1207-4897-b8d7-62cc0e9880fa",
   "metadata": {},
   "outputs": [],
   "source": [
    "# Generatos Expressions"
   ]
  },
  {
   "cell_type": "code",
   "execution_count": 2,
   "id": "5ed99e83-2349-43c6-bfa8-b722e6a8c3b1",
   "metadata": {},
   "outputs": [],
   "source": [
    "l = [i**2 for i in range(5)]"
   ]
  },
  {
   "cell_type": "code",
   "execution_count": 3,
   "id": "27406085-1794-4bcc-8ce9-dbac72da7dec",
   "metadata": {},
   "outputs": [
    {
     "data": {
      "text/plain": [
       "[0, 1, 4, 9, 16]"
      ]
     },
     "execution_count": 3,
     "metadata": {},
     "output_type": "execute_result"
    }
   ],
   "source": [
    "l"
   ]
  },
  {
   "cell_type": "code",
   "execution_count": 5,
   "id": "22bcf2a4-3b22-4568-b110-d7ea084fa186",
   "metadata": {},
   "outputs": [],
   "source": [
    "g = (i**2 for i in range(5))"
   ]
  },
  {
   "cell_type": "code",
   "execution_count": 7,
   "id": "ef4c866b-f5bb-49c5-abc4-958e908b3f8f",
   "metadata": {},
   "outputs": [
    {
     "data": {
      "text/plain": [
       "generator"
      ]
     },
     "execution_count": 7,
     "metadata": {},
     "output_type": "execute_result"
    }
   ],
   "source": [
    "type(g)"
   ]
  },
  {
   "cell_type": "code",
   "execution_count": 8,
   "id": "b7e8aef9-c6b9-4f73-90a0-c32bed64fd0d",
   "metadata": {},
   "outputs": [
    {
     "name": "stdout",
     "output_type": "stream",
     "text": [
      "0\n",
      "1\n",
      "4\n",
      "9\n",
      "16\n"
     ]
    }
   ],
   "source": [
    "for item in g:\n",
    "    print(item)"
   ]
  },
  {
   "cell_type": "code",
   "execution_count": 9,
   "id": "31ecae76-62f3-4716-beed-6b8d19cdb752",
   "metadata": {},
   "outputs": [
    {
     "data": {
      "text/plain": [
       "[]"
      ]
     },
     "execution_count": 9,
     "metadata": {},
     "output_type": "execute_result"
    }
   ],
   "source": [
    "list(g)"
   ]
  },
  {
   "cell_type": "code",
   "execution_count": 11,
   "id": "a230f3dc-9dfe-4e51-8ac7-4b5d6ee164a9",
   "metadata": {},
   "outputs": [],
   "source": [
    "# exausted"
   ]
  },
  {
   "cell_type": "code",
   "execution_count": 13,
   "id": "e45e9935-d8ac-4ce5-8b1f-ef666e9d5d19",
   "metadata": {},
   "outputs": [],
   "source": [
    "import dis"
   ]
  },
  {
   "cell_type": "code",
   "execution_count": 14,
   "id": "f0e0e336-4890-4b32-b0da-c4d52eff83db",
   "metadata": {},
   "outputs": [],
   "source": [
    "exp = compile('[i**2 for i in range(5)]', filename='<string>', mode='eval')"
   ]
  },
  {
   "cell_type": "code",
   "execution_count": 15,
   "id": "a42b0cfd-f290-4112-9150-81f2a700ab1f",
   "metadata": {},
   "outputs": [
    {
     "name": "stdout",
     "output_type": "stream",
     "text": [
      "  0           0 RESUME                   0\n",
      "\n",
      "  1           2 PUSH_NULL\n",
      "              4 LOAD_NAME                0 (range)\n",
      "              6 LOAD_CONST               0 (5)\n",
      "              8 CALL                     1\n",
      "             16 GET_ITER\n",
      "             18 LOAD_FAST_AND_CLEAR      0 (i)\n",
      "             20 SWAP                     2\n",
      "             22 BUILD_LIST               0\n",
      "             24 SWAP                     2\n",
      "        >>   26 FOR_ITER                 7 (to 44)\n",
      "             30 STORE_FAST               0 (i)\n",
      "             32 LOAD_FAST                0 (i)\n",
      "             34 LOAD_CONST               1 (2)\n",
      "             36 BINARY_OP                8 (**)\n",
      "             40 LIST_APPEND              2\n",
      "             42 JUMP_BACKWARD            9 (to 26)\n",
      "        >>   44 END_FOR\n",
      "             46 SWAP                     2\n",
      "             48 STORE_FAST               0 (i)\n",
      "             50 RETURN_VALUE\n",
      "        >>   52 SWAP                     2\n",
      "             54 POP_TOP\n",
      "             56 SWAP                     2\n",
      "             58 STORE_FAST               0 (i)\n",
      "             60 RERAISE                  0\n",
      "ExceptionTable:\n",
      "  22 to 44 -> 52 [2]\n"
     ]
    }
   ],
   "source": [
    "dis.dis(exp)"
   ]
  },
  {
   "cell_type": "code",
   "execution_count": 16,
   "id": "f2b6ff86-ec89-4532-bf50-fc209fd4b3cb",
   "metadata": {},
   "outputs": [],
   "source": [
    "exp = compile('(i**2 for i in range(5))', filename='<string>', mode='eval')"
   ]
  },
  {
   "cell_type": "code",
   "execution_count": 17,
   "id": "1431d41d-b0ea-44a5-84f6-f681d3eab55b",
   "metadata": {},
   "outputs": [
    {
     "name": "stdout",
     "output_type": "stream",
     "text": [
      "  0           0 RESUME                   0\n",
      "\n",
      "  1           2 LOAD_CONST               0 (<code object <genexpr> at 0x1102d04e0, file \"<string>\", line 1>)\n",
      "              4 MAKE_FUNCTION            0\n",
      "              6 PUSH_NULL\n",
      "              8 LOAD_NAME                0 (range)\n",
      "             10 LOAD_CONST               1 (5)\n",
      "             12 CALL                     1\n",
      "             20 GET_ITER\n",
      "             22 CALL                     0\n",
      "             30 RETURN_VALUE\n",
      "\n",
      "Disassembly of <code object <genexpr> at 0x1102d04e0, file \"<string>\", line 1>:\n",
      "  1           0 RETURN_GENERATOR\n",
      "              2 POP_TOP\n",
      "              4 RESUME                   0\n",
      "              6 LOAD_FAST                0 (.0)\n",
      "        >>    8 FOR_ITER                 9 (to 30)\n",
      "             12 STORE_FAST               1 (i)\n",
      "             14 LOAD_FAST                1 (i)\n",
      "             16 LOAD_CONST               0 (2)\n",
      "             18 BINARY_OP                8 (**)\n",
      "             22 YIELD_VALUE              1\n",
      "             24 RESUME                   1\n",
      "             26 POP_TOP\n",
      "             28 JUMP_BACKWARD           11 (to 8)\n",
      "        >>   30 END_FOR\n",
      "             32 RETURN_CONST             1 (None)\n",
      "        >>   34 CALL_INTRINSIC_1         3 (INTRINSIC_STOPITERATION_ERROR)\n",
      "             36 RERAISE                  1\n",
      "ExceptionTable:\n",
      "  4 to 32 -> 34 [0] lasti\n"
     ]
    }
   ],
   "source": [
    "dis.dis(exp)"
   ]
  },
  {
   "cell_type": "code",
   "execution_count": 18,
   "id": "86f85847-a7d0-4569-b6d5-25500b622ea0",
   "metadata": {},
   "outputs": [],
   "source": [
    "l = [i**2 for i in range(5)]\n",
    "g = (i**2 for i in range(5))"
   ]
  },
  {
   "cell_type": "code",
   "execution_count": 19,
   "id": "4c90a194-78ac-44cb-8718-773d80102cd5",
   "metadata": {},
   "outputs": [
    {
     "data": {
      "text/plain": [
       "[0, 1, 4, 9, 16]"
      ]
     },
     "execution_count": 19,
     "metadata": {},
     "output_type": "execute_result"
    }
   ],
   "source": [
    "list(l)"
   ]
  },
  {
   "cell_type": "code",
   "execution_count": 20,
   "id": "f4dfb571-f561-448c-a36d-ac5968f34c10",
   "metadata": {},
   "outputs": [
    {
     "data": {
      "text/plain": [
       "[0, 1, 4, 9, 16]"
      ]
     },
     "execution_count": 20,
     "metadata": {},
     "output_type": "execute_result"
    }
   ],
   "source": [
    "list(l)"
   ]
  },
  {
   "cell_type": "code",
   "execution_count": 21,
   "id": "298a3ebf-48ad-4530-a1aa-5b5f8237010d",
   "metadata": {},
   "outputs": [
    {
     "data": {
      "text/plain": [
       "[0, 1, 4, 9, 16]"
      ]
     },
     "execution_count": 21,
     "metadata": {},
     "output_type": "execute_result"
    }
   ],
   "source": [
    "list(g)"
   ]
  },
  {
   "cell_type": "code",
   "execution_count": 22,
   "id": "91d5dc2e-80ca-4448-8dcd-2dfced35b401",
   "metadata": {},
   "outputs": [
    {
     "data": {
      "text/plain": [
       "[]"
      ]
     },
     "execution_count": 22,
     "metadata": {},
     "output_type": "execute_result"
    }
   ],
   "source": [
    "list(g)"
   ]
  },
  {
   "cell_type": "code",
   "execution_count": 25,
   "id": "d8b14c8a-fb6a-4632-84fc-40570fef0257",
   "metadata": {},
   "outputs": [],
   "source": [
    "start = 1\n",
    "stop = 10\n",
    "mult_list = [[i*j\n",
    "              for j in range(start, stop+1)]\n",
    "            for i in range(start, stop+1)]"
   ]
  },
  {
   "cell_type": "code",
   "execution_count": 26,
   "id": "34901290-2a3b-4864-b412-561ab8be7ca6",
   "metadata": {},
   "outputs": [
    {
     "data": {
      "text/plain": [
       "[[1, 2, 3, 4, 5, 6, 7, 8, 9, 10],\n",
       " [2, 4, 6, 8, 10, 12, 14, 16, 18, 20],\n",
       " [3, 6, 9, 12, 15, 18, 21, 24, 27, 30],\n",
       " [4, 8, 12, 16, 20, 24, 28, 32, 36, 40],\n",
       " [5, 10, 15, 20, 25, 30, 35, 40, 45, 50],\n",
       " [6, 12, 18, 24, 30, 36, 42, 48, 54, 60],\n",
       " [7, 14, 21, 28, 35, 42, 49, 56, 63, 70],\n",
       " [8, 16, 24, 32, 40, 48, 56, 64, 72, 80],\n",
       " [9, 18, 27, 36, 45, 54, 63, 72, 81, 90],\n",
       " [10, 20, 30, 40, 50, 60, 70, 80, 90, 100]]"
      ]
     },
     "execution_count": 26,
     "metadata": {},
     "output_type": "execute_result"
    }
   ],
   "source": [
    "mult_list"
   ]
  },
  {
   "cell_type": "code",
   "execution_count": 28,
   "id": "5bdf081d-8c54-41ae-846a-78d095f4a304",
   "metadata": {},
   "outputs": [],
   "source": [
    "start = 1\n",
    "stop = 10\n",
    "mult_list = ((i*j\n",
    "              for j in range(start, stop+1))\n",
    "            for i in range(start, stop+1))"
   ]
  },
  {
   "cell_type": "code",
   "execution_count": 29,
   "id": "13df3356-5789-4e51-a288-72df2d525f5e",
   "metadata": {},
   "outputs": [
    {
     "data": {
      "text/plain": [
       "<generator object <genexpr> at 0x1102d14e0>"
      ]
     },
     "execution_count": 29,
     "metadata": {},
     "output_type": "execute_result"
    }
   ],
   "source": [
    "mult_list"
   ]
  },
  {
   "cell_type": "code",
   "execution_count": 30,
   "id": "13eef9df-5cc5-4467-b133-335214214af1",
   "metadata": {},
   "outputs": [
    {
     "data": {
      "text/plain": [
       "[<generator object <genexpr>.<genexpr> at 0x1104d9080>,\n",
       " <generator object <genexpr>.<genexpr> at 0x1104d9560>,\n",
       " <generator object <genexpr>.<genexpr> at 0x1104d9220>,\n",
       " <generator object <genexpr>.<genexpr> at 0x1104da670>,\n",
       " <generator object <genexpr>.<genexpr> at 0x1104da810>,\n",
       " <generator object <genexpr>.<genexpr> at 0x1104d8a00>,\n",
       " <generator object <genexpr>.<genexpr> at 0x1104d8ba0>,\n",
       " <generator object <genexpr>.<genexpr> at 0x1104d9d80>,\n",
       " <generator object <genexpr>.<genexpr> at 0x1104d9cb0>,\n",
       " <generator object <genexpr>.<genexpr> at 0x1104d92f0>]"
      ]
     },
     "execution_count": 30,
     "metadata": {},
     "output_type": "execute_result"
    }
   ],
   "source": [
    "list(mult_list)"
   ]
  },
  {
   "cell_type": "code",
   "execution_count": 32,
   "id": "41ed7637-1acd-4e5e-9a69-67edaaf34b7a",
   "metadata": {},
   "outputs": [],
   "source": [
    "start = 1\n",
    "stop = 10\n",
    "mult_list = ((i*j\n",
    "              for j in range(start, stop+1))\n",
    "            for i in range(start, stop+1))"
   ]
  },
  {
   "cell_type": "code",
   "execution_count": 33,
   "id": "740535e9-5345-4e56-8288-961e4635e2f9",
   "metadata": {},
   "outputs": [
    {
     "data": {
      "text/plain": [
       "[[1, 2, 3, 4, 5, 6, 7, 8, 9, 10],\n",
       " [2, 4, 6, 8, 10, 12, 14, 16, 18, 20],\n",
       " [3, 6, 9, 12, 15, 18, 21, 24, 27, 30],\n",
       " [4, 8, 12, 16, 20, 24, 28, 32, 36, 40],\n",
       " [5, 10, 15, 20, 25, 30, 35, 40, 45, 50],\n",
       " [6, 12, 18, 24, 30, 36, 42, 48, 54, 60],\n",
       " [7, 14, 21, 28, 35, 42, 49, 56, 63, 70],\n",
       " [8, 16, 24, 32, 40, 48, 56, 64, 72, 80],\n",
       " [9, 18, 27, 36, 45, 54, 63, 72, 81, 90],\n",
       " [10, 20, 30, 40, 50, 60, 70, 80, 90, 100]]"
      ]
     },
     "execution_count": 33,
     "metadata": {},
     "output_type": "execute_result"
    }
   ],
   "source": [
    "[list(row) for row in mult_list]"
   ]
  },
  {
   "cell_type": "code",
   "execution_count": 34,
   "id": "27210436-2092-4660-bedd-3760710a0c2f",
   "metadata": {},
   "outputs": [],
   "source": [
    "start = 1\n",
    "stop = 10\n",
    "mult_list = ((i*j\n",
    "              for j in range(start, stop+1))\n",
    "            for i in range(start, stop+1))"
   ]
  },
  {
   "cell_type": "code",
   "execution_count": 35,
   "id": "d9909ec8-6c5d-4067-9a1f-997fe8c593b8",
   "metadata": {},
   "outputs": [
    {
     "name": "stdout",
     "output_type": "stream",
     "text": [
      "1\n",
      "2\n",
      "3\n",
      "4\n",
      "5\n",
      "6\n",
      "7\n",
      "8\n",
      "9\n",
      "10\n",
      "2\n",
      "4\n",
      "6\n",
      "8\n",
      "10\n",
      "12\n",
      "14\n",
      "16\n",
      "18\n",
      "20\n",
      "3\n",
      "6\n",
      "9\n",
      "12\n",
      "15\n",
      "18\n",
      "21\n",
      "24\n",
      "27\n",
      "30\n",
      "4\n",
      "8\n",
      "12\n",
      "16\n",
      "20\n",
      "24\n",
      "28\n",
      "32\n",
      "36\n",
      "40\n",
      "5\n",
      "10\n",
      "15\n",
      "20\n",
      "25\n",
      "30\n",
      "35\n",
      "40\n",
      "45\n",
      "50\n",
      "6\n",
      "12\n",
      "18\n",
      "24\n",
      "30\n",
      "36\n",
      "42\n",
      "48\n",
      "54\n",
      "60\n",
      "7\n",
      "14\n",
      "21\n",
      "28\n",
      "35\n",
      "42\n",
      "49\n",
      "56\n",
      "63\n",
      "70\n",
      "8\n",
      "16\n",
      "24\n",
      "32\n",
      "40\n",
      "48\n",
      "56\n",
      "64\n",
      "72\n",
      "80\n",
      "9\n",
      "18\n",
      "27\n",
      "36\n",
      "45\n",
      "54\n",
      "63\n",
      "72\n",
      "81\n",
      "90\n",
      "10\n",
      "20\n",
      "30\n",
      "40\n",
      "50\n",
      "60\n",
      "70\n",
      "80\n",
      "90\n",
      "100\n"
     ]
    }
   ],
   "source": [
    "for row in mult_list:\n",
    "    for item in row:\n",
    "        print(item)"
   ]
  },
  {
   "cell_type": "code",
   "execution_count": 37,
   "id": "0c4c59ad-b5ae-49bb-8ea5-e66361967905",
   "metadata": {},
   "outputs": [
    {
     "name": "stdout",
     "output_type": "stream",
     "text": [
      "1, 2, 3, 4, 5, 6, 7, 8, 9, 10\n",
      "2, 4, 6, 8, 10, 12, 14, 16, 18, 20\n",
      "3, 6, 9, 12, 15, 18, 21, 24, 27, 30\n",
      "4, 8, 12, 16, 20, 24, 28, 32, 36, 40\n",
      "5, 10, 15, 20, 25, 30, 35, 40, 45, 50\n",
      "6, 12, 18, 24, 30, 36, 42, 48, 54, 60\n",
      "7, 14, 21, 28, 35, 42, 49, 56, 63, 70\n",
      "8, 16, 24, 32, 40, 48, 56, 64, 72, 80\n",
      "9, 18, 27, 36, 45, 54, 63, 72, 81, 90\n",
      "10, 20, 30, 40, 50, 60, 70, 80, 90, 100\n"
     ]
    }
   ],
   "source": [
    "start = 1\n",
    "stop = 10\n",
    "mult_list = ((i*j\n",
    "              for j in range(start, stop+1))\n",
    "            for i in range(start, stop+1))\n",
    "\n",
    "for row in mult_list:\n",
    "    print(', '.join([str(item) for item in row]))"
   ]
  },
  {
   "cell_type": "code",
   "execution_count": 38,
   "id": "cf67f0d4-197c-4531-9fbe-25116a794e3f",
   "metadata": {},
   "outputs": [
    {
     "name": "stdout",
     "output_type": "stream",
     "text": [
      "1 2 3 4 5 6 7 8 9 10 \n",
      "2 4 6 8 10 12 14 16 18 20 \n",
      "3 6 9 12 15 18 21 24 27 30 \n",
      "4 8 12 16 20 24 28 32 36 40 \n",
      "5 10 15 20 25 30 35 40 45 50 \n",
      "6 12 18 24 30 36 42 48 54 60 \n",
      "7 14 21 28 35 42 49 56 63 70 \n",
      "8 16 24 32 40 48 56 64 72 80 \n",
      "9 18 27 36 45 54 63 72 81 90 \n",
      "10 20 30 40 50 60 70 80 90 100 \n"
     ]
    }
   ],
   "source": [
    "start = 1\n",
    "stop = 10\n",
    "mult_list = ((i*j\n",
    "              for j in range(start, stop+1))\n",
    "            for i in range(start, stop+1))\n",
    "\n",
    "for row in mult_list:\n",
    "    for item in row:\n",
    "        print(item, end=' ')\n",
    "    print('')"
   ]
  },
  {
   "cell_type": "code",
   "execution_count": 41,
   "id": "7bf4f4e9-b96a-4f9b-98a1-a3417c2669ef",
   "metadata": {},
   "outputs": [],
   "source": [
    "start = 1\n",
    "stop = 10\n",
    "mult_list = ([i*j\n",
    "              for j in range(start, stop+1)]\n",
    "            for i in range(start, stop+1))\n"
   ]
  },
  {
   "cell_type": "code",
   "execution_count": 42,
   "id": "614e8169-c1cd-418a-9113-1fd51c14788c",
   "metadata": {},
   "outputs": [
    {
     "data": {
      "text/plain": [
       "[[1, 2, 3, 4, 5, 6, 7, 8, 9, 10],\n",
       " [2, 4, 6, 8, 10, 12, 14, 16, 18, 20],\n",
       " [3, 6, 9, 12, 15, 18, 21, 24, 27, 30],\n",
       " [4, 8, 12, 16, 20, 24, 28, 32, 36, 40],\n",
       " [5, 10, 15, 20, 25, 30, 35, 40, 45, 50],\n",
       " [6, 12, 18, 24, 30, 36, 42, 48, 54, 60],\n",
       " [7, 14, 21, 28, 35, 42, 49, 56, 63, 70],\n",
       " [8, 16, 24, 32, 40, 48, 56, 64, 72, 80],\n",
       " [9, 18, 27, 36, 45, 54, 63, 72, 81, 90],\n",
       " [10, 20, 30, 40, 50, 60, 70, 80, 90, 100]]"
      ]
     },
     "execution_count": 42,
     "metadata": {},
     "output_type": "execute_result"
    }
   ],
   "source": [
    "list(mult_list)"
   ]
  },
  {
   "cell_type": "code",
   "execution_count": 43,
   "id": "6c616811-1e71-40ec-bcb0-8ba8fb790b41",
   "metadata": {},
   "outputs": [
    {
     "name": "stdout",
     "output_type": "stream",
     "text": [
      "[1, 2, 3, 4, 5, 6, 7, 8, 9, 10]\n",
      "[2, 4, 6, 8, 10, 12, 14, 16, 18, 20]\n",
      "[3, 6, 9, 12, 15, 18, 21, 24, 27, 30]\n",
      "[4, 8, 12, 16, 20, 24, 28, 32, 36, 40]\n",
      "[5, 10, 15, 20, 25, 30, 35, 40, 45, 50]\n",
      "[6, 12, 18, 24, 30, 36, 42, 48, 54, 60]\n",
      "[7, 14, 21, 28, 35, 42, 49, 56, 63, 70]\n",
      "[8, 16, 24, 32, 40, 48, 56, 64, 72, 80]\n",
      "[9, 18, 27, 36, 45, 54, 63, 72, 81, 90]\n",
      "[10, 20, 30, 40, 50, 60, 70, 80, 90, 100]\n"
     ]
    }
   ],
   "source": [
    "start = 1\n",
    "stop = 10\n",
    "mult_list = ([i*j\n",
    "              for j in range(start, stop+1)]\n",
    "            for i in range(start, stop+1))\n",
    "\n",
    "for row in mult_list:\n",
    "    print(row)"
   ]
  },
  {
   "cell_type": "code",
   "execution_count": 44,
   "id": "90104460-f16f-4dcb-b302-e316f0eb7f23",
   "metadata": {},
   "outputs": [],
   "source": [
    "from math import factorial"
   ]
  },
  {
   "cell_type": "code",
   "execution_count": 45,
   "id": "083dd24f-85f8-41bb-bbfa-9f2bb8e8e6db",
   "metadata": {},
   "outputs": [],
   "source": [
    "def combo(n, k):\n",
    "    return factorial(n) // (factorial(k) * factorial(n-k))"
   ]
  },
  {
   "cell_type": "code",
   "execution_count": 46,
   "id": "24b8f529-155c-4cc7-88b7-ec3df00aef95",
   "metadata": {},
   "outputs": [],
   "source": [
    "size = 10"
   ]
  },
  {
   "cell_type": "code",
   "execution_count": 47,
   "id": "bf7ca473-4a67-4056-aa23-51f0e24a9f8e",
   "metadata": {},
   "outputs": [],
   "source": [
    "pascal = [[combo(n, k) for k in range(n+1)] for n in range(size+1)]"
   ]
  },
  {
   "cell_type": "code",
   "execution_count": 48,
   "id": "9b836879-9523-4da6-921e-dec5f9596229",
   "metadata": {},
   "outputs": [
    {
     "data": {
      "text/plain": [
       "[[1],\n",
       " [1, 1],\n",
       " [1, 2, 1],\n",
       " [1, 3, 3, 1],\n",
       " [1, 4, 6, 4, 1],\n",
       " [1, 5, 10, 10, 5, 1],\n",
       " [1, 6, 15, 20, 15, 6, 1],\n",
       " [1, 7, 21, 35, 35, 21, 7, 1],\n",
       " [1, 8, 28, 56, 70, 56, 28, 8, 1],\n",
       " [1, 9, 36, 84, 126, 126, 84, 36, 9, 1],\n",
       " [1, 10, 45, 120, 210, 252, 210, 120, 45, 10, 1]]"
      ]
     },
     "execution_count": 48,
     "metadata": {},
     "output_type": "execute_result"
    }
   ],
   "source": [
    "pascal"
   ]
  },
  {
   "cell_type": "code",
   "execution_count": 52,
   "id": "f6b15733-8457-4931-8677-cf21607f82d4",
   "metadata": {},
   "outputs": [],
   "source": [
    "pascal = ((combo(n, k) for k in range(n+1)) for n in range(size+1))"
   ]
  },
  {
   "cell_type": "code",
   "execution_count": 53,
   "id": "24a6e2b1-9a6a-445a-bbc0-bcd6eba88260",
   "metadata": {},
   "outputs": [
    {
     "data": {
      "text/plain": [
       "[[1],\n",
       " [1, 1],\n",
       " [1, 2, 1],\n",
       " [1, 3, 3, 1],\n",
       " [1, 4, 6, 4, 1],\n",
       " [1, 5, 10, 10, 5, 1],\n",
       " [1, 6, 15, 20, 15, 6, 1],\n",
       " [1, 7, 21, 35, 35, 21, 7, 1],\n",
       " [1, 8, 28, 56, 70, 56, 28, 8, 1],\n",
       " [1, 9, 36, 84, 126, 126, 84, 36, 9, 1],\n",
       " [1, 10, 45, 120, 210, 252, 210, 120, 45, 10, 1]]"
      ]
     },
     "execution_count": 53,
     "metadata": {},
     "output_type": "execute_result"
    }
   ],
   "source": [
    "[list(row) for row in pascal]"
   ]
  },
  {
   "cell_type": "code",
   "execution_count": 55,
   "id": "d0aed376-2f9d-436a-89c0-abb29ffd9c5a",
   "metadata": {},
   "outputs": [],
   "source": [
    "from timeit import timeit"
   ]
  },
  {
   "cell_type": "code",
   "execution_count": 57,
   "id": "44402f6a-1fbc-48bc-9f78-e2719f7010b5",
   "metadata": {},
   "outputs": [],
   "source": [
    "size = 600"
   ]
  },
  {
   "cell_type": "code",
   "execution_count": 58,
   "id": "28f34a72-d4d5-4de0-826a-a7fcd9b7f6b7",
   "metadata": {},
   "outputs": [
    {
     "data": {
      "text/plain": [
       "2.9615763339970727"
      ]
     },
     "execution_count": 58,
     "metadata": {},
     "output_type": "execute_result"
    }
   ],
   "source": [
    "timeit('[[combo(n, k) for k in range(n+1)] for n in range(size+1)]', globals=globals(), number=1)"
   ]
  },
  {
   "cell_type": "code",
   "execution_count": 59,
   "id": "204ce7a2-fe2b-47b3-8710-5ef94e4da92b",
   "metadata": {},
   "outputs": [
    {
     "data": {
      "text/plain": [
       "4.832996637560427e-06"
      ]
     },
     "execution_count": 59,
     "metadata": {},
     "output_type": "execute_result"
    }
   ],
   "source": [
    "timeit('((combo(n, k) for k in range(n+1)) for n in range(size+1))', globals=globals(), number=1)"
   ]
  },
  {
   "cell_type": "code",
   "execution_count": 60,
   "id": "945ac6a5-e57f-41fd-99b8-bd5b4e452f25",
   "metadata": {},
   "outputs": [
    {
     "data": {
      "text/plain": [
       "3.0410010367631912e-06"
      ]
     },
     "execution_count": 60,
     "metadata": {},
     "output_type": "execute_result"
    }
   ],
   "source": [
    "timeit('([combo(n, k) for k in range(n+1)] for n in range(size+1))', globals=globals(), number=1)\n"
   ]
  },
  {
   "cell_type": "code",
   "execution_count": 61,
   "id": "fa9f6df5-0341-4412-99df-de5326a70f28",
   "metadata": {},
   "outputs": [],
   "source": [
    "size = 100_000"
   ]
  },
  {
   "cell_type": "code",
   "execution_count": 62,
   "id": "de3cf319-5711-40a9-96a8-b8730f9f6e30",
   "metadata": {},
   "outputs": [
    {
     "data": {
      "text/plain": [
       "3.0420051189139485e-06"
      ]
     },
     "execution_count": 62,
     "metadata": {},
     "output_type": "execute_result"
    }
   ],
   "source": [
    "timeit('([combo(n, k) for k in range(n+1)] for n in range(size+1))', globals=globals(), number=1)\n"
   ]
  },
  {
   "cell_type": "code",
   "execution_count": 63,
   "id": "147f6399-2f07-4616-aa06-3b08a5627043",
   "metadata": {},
   "outputs": [],
   "source": [
    "def pascal_list(size):\n",
    "    l = [[combo(n, k) for k in range(n+1)] for n in range(size+1)]\n",
    "    for row in l:\n",
    "        for item in row:\n",
    "            pass"
   ]
  },
  {
   "cell_type": "code",
   "execution_count": 65,
   "id": "0526a619-6fbf-4fce-8571-4ba2e016a7f1",
   "metadata": {},
   "outputs": [],
   "source": [
    "def pascal_gen(size):\n",
    "    g = ((combo(n, k) for k in range(n+1)) for n in range(size+1))\n",
    "    for row in g:\n",
    "        for item in row:\n",
    "            pass"
   ]
  },
  {
   "cell_type": "code",
   "execution_count": 66,
   "id": "1c72253d-a2b3-46bc-8de6-593a61c30579",
   "metadata": {},
   "outputs": [],
   "source": [
    "size = 600"
   ]
  },
  {
   "cell_type": "code",
   "execution_count": 67,
   "id": "334288ec-a8f9-45fb-aef7-94e00deeea52",
   "metadata": {},
   "outputs": [
    {
     "data": {
      "text/plain": [
       "3.0339819170039846"
      ]
     },
     "execution_count": 67,
     "metadata": {},
     "output_type": "execute_result"
    }
   ],
   "source": [
    "timeit('pascal_list(size)', globals=globals(), number=1)"
   ]
  },
  {
   "cell_type": "code",
   "execution_count": 68,
   "id": "f887e155-f792-4efc-bc6a-f0ae573dd0f9",
   "metadata": {},
   "outputs": [
    {
     "data": {
      "text/plain": [
       "2.966267958006938"
      ]
     },
     "execution_count": 68,
     "metadata": {},
     "output_type": "execute_result"
    }
   ],
   "source": [
    "timeit('pascal_gen(size)', globals=globals(), number=1)"
   ]
  },
  {
   "cell_type": "code",
   "execution_count": 71,
   "id": "fb6c902a-a2ee-4f08-aed9-b8a9cb56467d",
   "metadata": {},
   "outputs": [],
   "source": [
    "# time performance is about the same when iterating through ALL elements"
   ]
  },
  {
   "cell_type": "code",
   "execution_count": 73,
   "id": "cbf4c732-30fe-4438-92fe-4da024d4131d",
   "metadata": {},
   "outputs": [],
   "source": [
    "import tracemalloc"
   ]
  },
  {
   "cell_type": "code",
   "execution_count": 74,
   "id": "c3e20f23-7e3f-49e5-82b8-c0dd5c8b6d9c",
   "metadata": {},
   "outputs": [],
   "source": [
    "def pascal_list(size):\n",
    "    l = [[combo(n, k) for k in range(n+1)] for n in range(size+1)]\n",
    "    for row in l:\n",
    "        for item in row:\n",
    "            pass\n",
    "\n",
    "    stats = tracemalloc.take_snapshot().statistics('lineno')\n",
    "    print(stats[0].size, 'bytes')"
   ]
  },
  {
   "cell_type": "code",
   "execution_count": 75,
   "id": "2bc0f4d0-e1ba-481b-8ad2-24e0648d504b",
   "metadata": {},
   "outputs": [],
   "source": [
    "def pascal_gen(size):\n",
    "    g = ((combo(n, k) for k in range(n+1)) for n in range(size+1))\n",
    "    for row in g:\n",
    "        for item in row:\n",
    "            pass\n",
    "            \n",
    "    stats = tracemalloc.take_snapshot().statistics('lineno')\n",
    "    print(stats[0].size, 'bytes')"
   ]
  },
  {
   "cell_type": "code",
   "execution_count": 76,
   "id": "133f5d64-f2ea-478b-bc2d-138d37aef028",
   "metadata": {},
   "outputs": [
    {
     "name": "stdout",
     "output_type": "stream",
     "text": [
      "1998644 bytes\n"
     ]
    }
   ],
   "source": [
    "tracemalloc.stop()\n",
    "tracemalloc.clear_traces()\n",
    "tracemalloc.start()\n",
    "pascal_list(300)"
   ]
  },
  {
   "cell_type": "code",
   "execution_count": 77,
   "id": "a8cbc222-6b8d-4c73-acad-8033e641dfcc",
   "metadata": {},
   "outputs": [
    {
     "data": {
      "text/plain": [
       "1.9060554504394531"
      ]
     },
     "execution_count": 77,
     "metadata": {},
     "output_type": "execute_result"
    }
   ],
   "source": [
    "1998644/1024/1024"
   ]
  },
  {
   "cell_type": "code",
   "execution_count": 78,
   "id": "c1b24a8a-eae1-4850-b2e6-977039588b9e",
   "metadata": {},
   "outputs": [
    {
     "name": "stdout",
     "output_type": "stream",
     "text": [
      "448 bytes\n"
     ]
    }
   ],
   "source": [
    "tracemalloc.stop()\n",
    "tracemalloc.clear_traces()\n",
    "tracemalloc.start()\n",
    "pascal_gen(300)"
   ]
  },
  {
   "cell_type": "code",
   "execution_count": null,
   "id": "3fa604b5-33a4-416d-b6c1-31461314d00e",
   "metadata": {},
   "outputs": [],
   "source": []
  }
 ],
 "metadata": {
  "kernelspec": {
   "display_name": "Python 3 (ipykernel)",
   "language": "python",
   "name": "python3"
  },
  "language_info": {
   "codemirror_mode": {
    "name": "ipython",
    "version": 3
   },
   "file_extension": ".py",
   "mimetype": "text/x-python",
   "name": "python",
   "nbconvert_exporter": "python",
   "pygments_lexer": "ipython3",
   "version": "3.12.6"
  }
 },
 "nbformat": 4,
 "nbformat_minor": 5
}
